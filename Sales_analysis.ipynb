{
  "nbformat": 4,
  "nbformat_minor": 0,
  "metadata": {
    "colab": {
      "name": "Sales analysis.ipynb",
      "provenance": [],
      "toc_visible": true,
      "authorship_tag": "ABX9TyNMzuEgGjy4CxlKGCNB2gyM",
      "include_colab_link": true
    },
    "kernelspec": {
      "name": "python3",
      "display_name": "Python 3"
    },
    "language_info": {
      "name": "python"
    }
  },
  "cells": [
    {
      "cell_type": "markdown",
      "metadata": {
        "id": "view-in-github",
        "colab_type": "text"
      },
      "source": [
        "<a href=\"https://colab.research.google.com/github/Y07-assine/Sales-analysis/blob/main/Sales_analysis.ipynb\" target=\"_parent\"><img src=\"https://colab.research.google.com/assets/colab-badge.svg\" alt=\"Open In Colab\"/></a>"
      ]
    },
    {
      "cell_type": "markdown",
      "metadata": {
        "id": "uhyFwUfQqStY"
      },
      "source": [
        "#Sales Analysis"
      ]
    },
    {
      "cell_type": "code",
      "metadata": {
        "colab": {
          "base_uri": "https://localhost:8080/"
        },
        "id": "XK4hHkwWsX3l",
        "outputId": "cc5b023e-6212-4778-aa3f-0af0976e2b5f"
      },
      "source": [
        "from google.colab import drive\n",
        "drive.mount('/content/drive')"
      ],
      "execution_count": 3,
      "outputs": [
        {
          "output_type": "stream",
          "name": "stdout",
          "text": [
            "Mounted at /content/drive\n"
          ]
        }
      ]
    },
    {
      "cell_type": "markdown",
      "metadata": {
        "id": "36pCprhCqYdu"
      },
      "source": [
        "##Import the needed packages"
      ]
    },
    {
      "cell_type": "code",
      "metadata": {
        "id": "C_YnsFFap9lr"
      },
      "source": [
        "import pandas as pd\n",
        "import matplotlib.pyplot as plt\n",
        "import os"
      ],
      "execution_count": 60,
      "outputs": []
    },
    {
      "cell_type": "markdown",
      "metadata": {
        "id": "xI-6AkPxrktk"
      },
      "source": [
        "##Concat the 12 months of sales data into a single CSV file"
      ]
    },
    {
      "cell_type": "code",
      "metadata": {
        "id": "ZSQ2xP9zrtln"
      },
      "source": [
        "folder = '/content/drive/MyDrive/sales_data'\n",
        "\n",
        "files = [file for file in os.listdir(folder)]\n",
        "\n",
        "all_data = pd.DataFrame()\n",
        "\n",
        "for file in files:\n",
        "  df = pd.read_csv(folder+\"/\"+file)\n",
        "  all_data = pd.concat([all_data,df])\n",
        "\n",
        "all_data.to_csv(\"all_data.csv\",index=False)"
      ],
      "execution_count": 14,
      "outputs": []
    },
    {
      "cell_type": "markdown",
      "metadata": {
        "id": "8vFHj_7Bt086"
      },
      "source": [
        "##Read the data"
      ]
    },
    {
      "cell_type": "code",
      "metadata": {
        "colab": {
          "base_uri": "https://localhost:8080/",
          "height": 204
        },
        "id": "k1KIk5_3tzJK",
        "outputId": "0db907fa-c139-4939-a14e-23f00a6c1f5a"
      },
      "source": [
        "df = pd.read_csv(\"all_data.csv\")\n",
        "df.head()"
      ],
      "execution_count": 53,
      "outputs": [
        {
          "output_type": "execute_result",
          "data": {
            "text/html": [
              "<div>\n",
              "<style scoped>\n",
              "    .dataframe tbody tr th:only-of-type {\n",
              "        vertical-align: middle;\n",
              "    }\n",
              "\n",
              "    .dataframe tbody tr th {\n",
              "        vertical-align: top;\n",
              "    }\n",
              "\n",
              "    .dataframe thead th {\n",
              "        text-align: right;\n",
              "    }\n",
              "</style>\n",
              "<table border=\"1\" class=\"dataframe\">\n",
              "  <thead>\n",
              "    <tr style=\"text-align: right;\">\n",
              "      <th></th>\n",
              "      <th>Order ID</th>\n",
              "      <th>Product</th>\n",
              "      <th>Quantity Ordered</th>\n",
              "      <th>Price Each</th>\n",
              "      <th>Order Date</th>\n",
              "      <th>Purchase Address</th>\n",
              "    </tr>\n",
              "  </thead>\n",
              "  <tbody>\n",
              "    <tr>\n",
              "      <th>0</th>\n",
              "      <td>236670</td>\n",
              "      <td>Wired Headphones</td>\n",
              "      <td>2</td>\n",
              "      <td>11.99</td>\n",
              "      <td>08/31/19 22:21</td>\n",
              "      <td>359 Spruce St, Seattle, WA 98101</td>\n",
              "    </tr>\n",
              "    <tr>\n",
              "      <th>1</th>\n",
              "      <td>236671</td>\n",
              "      <td>Bose SoundSport Headphones</td>\n",
              "      <td>1</td>\n",
              "      <td>99.99</td>\n",
              "      <td>08/15/19 15:11</td>\n",
              "      <td>492 Ridge St, Dallas, TX 75001</td>\n",
              "    </tr>\n",
              "    <tr>\n",
              "      <th>2</th>\n",
              "      <td>236672</td>\n",
              "      <td>iPhone</td>\n",
              "      <td>1</td>\n",
              "      <td>700.0</td>\n",
              "      <td>08/06/19 14:40</td>\n",
              "      <td>149 7th St, Portland, OR 97035</td>\n",
              "    </tr>\n",
              "    <tr>\n",
              "      <th>3</th>\n",
              "      <td>236673</td>\n",
              "      <td>AA Batteries (4-pack)</td>\n",
              "      <td>2</td>\n",
              "      <td>3.84</td>\n",
              "      <td>08/29/19 20:59</td>\n",
              "      <td>631 2nd St, Los Angeles, CA 90001</td>\n",
              "    </tr>\n",
              "    <tr>\n",
              "      <th>4</th>\n",
              "      <td>236674</td>\n",
              "      <td>AA Batteries (4-pack)</td>\n",
              "      <td>2</td>\n",
              "      <td>3.84</td>\n",
              "      <td>08/15/19 19:53</td>\n",
              "      <td>736 14th St, New York City, NY 10001</td>\n",
              "    </tr>\n",
              "  </tbody>\n",
              "</table>\n",
              "</div>"
            ],
            "text/plain": [
              "  Order ID  ...                      Purchase Address\n",
              "0   236670  ...      359 Spruce St, Seattle, WA 98101\n",
              "1   236671  ...        492 Ridge St, Dallas, TX 75001\n",
              "2   236672  ...        149 7th St, Portland, OR 97035\n",
              "3   236673  ...     631 2nd St, Los Angeles, CA 90001\n",
              "4   236674  ...  736 14th St, New York City, NY 10001\n",
              "\n",
              "[5 rows x 6 columns]"
            ]
          },
          "metadata": {},
          "execution_count": 53
        }
      ]
    },
    {
      "cell_type": "code",
      "metadata": {
        "colab": {
          "base_uri": "https://localhost:8080/"
        },
        "id": "MyvntxUaujEI",
        "outputId": "f5e53508-8e56-4cb1-d829-d2be28b3e4d6"
      },
      "source": [
        "df.shape"
      ],
      "execution_count": 22,
      "outputs": [
        {
          "output_type": "execute_result",
          "data": {
            "text/plain": [
              "(186850, 6)"
            ]
          },
          "metadata": {},
          "execution_count": 22
        }
      ]
    },
    {
      "cell_type": "code",
      "metadata": {
        "colab": {
          "base_uri": "https://localhost:8080/"
        },
        "id": "lYBhBOclyU5V",
        "outputId": "8b781a66-78f0-42c5-daba-aa2586f961b0"
      },
      "source": [
        "df.dtypes"
      ],
      "execution_count": 23,
      "outputs": [
        {
          "output_type": "execute_result",
          "data": {
            "text/plain": [
              "Order ID            object\n",
              "Product             object\n",
              "Quantity Ordered    object\n",
              "Price Each          object\n",
              "Order Date          object\n",
              "Purchase Address    object\n",
              "dtype: object"
            ]
          },
          "metadata": {},
          "execution_count": 23
        }
      ]
    },
    {
      "cell_type": "code",
      "metadata": {
        "colab": {
          "base_uri": "https://localhost:8080/"
        },
        "id": "vbXELnuhzu9H",
        "outputId": "ec88cfea-e553-48a2-eda5-ced269a216c1"
      },
      "source": [
        "df.info()"
      ],
      "execution_count": 32,
      "outputs": [
        {
          "output_type": "stream",
          "name": "stdout",
          "text": [
            "<class 'pandas.core.frame.DataFrame'>\n",
            "RangeIndex: 186850 entries, 0 to 186849\n",
            "Data columns (total 6 columns):\n",
            " #   Column            Non-Null Count   Dtype \n",
            "---  ------            --------------   ----- \n",
            " 0   Order ID          186305 non-null  object\n",
            " 1   Product           186305 non-null  object\n",
            " 2   Quantity Ordered  186305 non-null  object\n",
            " 3   Price Each        186305 non-null  object\n",
            " 4   Order Date        186305 non-null  object\n",
            " 5   Purchase Address  186305 non-null  object\n",
            "dtypes: object(6)\n",
            "memory usage: 8.6+ MB\n"
          ]
        }
      ]
    },
    {
      "cell_type": "markdown",
      "metadata": {
        "id": "mPQlIPT60NOH"
      },
      "source": [
        "##Clean up the data"
      ]
    },
    {
      "cell_type": "markdown",
      "metadata": {
        "id": "wQRx1Sr50R30"
      },
      "source": [
        "Drop rows of NAN"
      ]
    },
    {
      "cell_type": "code",
      "metadata": {
        "colab": {
          "base_uri": "https://localhost:8080/"
        },
        "id": "Rydm-mjJz09Y",
        "outputId": "f54cedd4-a23c-4e2a-ad3c-376643918ca6"
      },
      "source": [
        "df.isnull().sum()"
      ],
      "execution_count": 34,
      "outputs": [
        {
          "output_type": "execute_result",
          "data": {
            "text/plain": [
              "Order ID            545\n",
              "Product             545\n",
              "Quantity Ordered    545\n",
              "Price Each          545\n",
              "Order Date          545\n",
              "Purchase Address    545\n",
              "dtype: int64"
            ]
          },
          "metadata": {},
          "execution_count": 34
        }
      ]
    },
    {
      "cell_type": "code",
      "metadata": {
        "id": "YIJlfp7B0Vf6"
      },
      "source": [
        "df = df.dropna(how='all')"
      ],
      "execution_count": 54,
      "outputs": []
    },
    {
      "cell_type": "code",
      "metadata": {
        "colab": {
          "base_uri": "https://localhost:8080/",
          "height": 204
        },
        "id": "kfv6Bxyy0i1O",
        "outputId": "0bd96d4a-3ca8-4019-f00e-1c88a6447ce9"
      },
      "source": [
        "df.head()"
      ],
      "execution_count": 37,
      "outputs": [
        {
          "output_type": "execute_result",
          "data": {
            "text/html": [
              "<div>\n",
              "<style scoped>\n",
              "    .dataframe tbody tr th:only-of-type {\n",
              "        vertical-align: middle;\n",
              "    }\n",
              "\n",
              "    .dataframe tbody tr th {\n",
              "        vertical-align: top;\n",
              "    }\n",
              "\n",
              "    .dataframe thead th {\n",
              "        text-align: right;\n",
              "    }\n",
              "</style>\n",
              "<table border=\"1\" class=\"dataframe\">\n",
              "  <thead>\n",
              "    <tr style=\"text-align: right;\">\n",
              "      <th></th>\n",
              "      <th>Order ID</th>\n",
              "      <th>Product</th>\n",
              "      <th>Quantity Ordered</th>\n",
              "      <th>Price Each</th>\n",
              "      <th>Order Date</th>\n",
              "      <th>Purchase Address</th>\n",
              "    </tr>\n",
              "  </thead>\n",
              "  <tbody>\n",
              "    <tr>\n",
              "      <th>0</th>\n",
              "      <td>236670</td>\n",
              "      <td>Wired Headphones</td>\n",
              "      <td>2</td>\n",
              "      <td>11.99</td>\n",
              "      <td>08/31/19 22:21</td>\n",
              "      <td>359 Spruce St, Seattle, WA 98101</td>\n",
              "    </tr>\n",
              "    <tr>\n",
              "      <th>1</th>\n",
              "      <td>236671</td>\n",
              "      <td>Bose SoundSport Headphones</td>\n",
              "      <td>1</td>\n",
              "      <td>99.99</td>\n",
              "      <td>08/15/19 15:11</td>\n",
              "      <td>492 Ridge St, Dallas, TX 75001</td>\n",
              "    </tr>\n",
              "    <tr>\n",
              "      <th>2</th>\n",
              "      <td>236672</td>\n",
              "      <td>iPhone</td>\n",
              "      <td>1</td>\n",
              "      <td>700.0</td>\n",
              "      <td>08/06/19 14:40</td>\n",
              "      <td>149 7th St, Portland, OR 97035</td>\n",
              "    </tr>\n",
              "    <tr>\n",
              "      <th>3</th>\n",
              "      <td>236673</td>\n",
              "      <td>AA Batteries (4-pack)</td>\n",
              "      <td>2</td>\n",
              "      <td>3.84</td>\n",
              "      <td>08/29/19 20:59</td>\n",
              "      <td>631 2nd St, Los Angeles, CA 90001</td>\n",
              "    </tr>\n",
              "    <tr>\n",
              "      <th>4</th>\n",
              "      <td>236674</td>\n",
              "      <td>AA Batteries (4-pack)</td>\n",
              "      <td>2</td>\n",
              "      <td>3.84</td>\n",
              "      <td>08/15/19 19:53</td>\n",
              "      <td>736 14th St, New York City, NY 10001</td>\n",
              "    </tr>\n",
              "  </tbody>\n",
              "</table>\n",
              "</div>"
            ],
            "text/plain": [
              "  Order ID  ...                      Purchase Address\n",
              "0   236670  ...      359 Spruce St, Seattle, WA 98101\n",
              "1   236671  ...        492 Ridge St, Dallas, TX 75001\n",
              "2   236672  ...        149 7th St, Portland, OR 97035\n",
              "3   236673  ...     631 2nd St, Los Angeles, CA 90001\n",
              "4   236674  ...  736 14th St, New York City, NY 10001\n",
              "\n",
              "[5 rows x 6 columns]"
            ]
          },
          "metadata": {},
          "execution_count": 37
        }
      ]
    },
    {
      "cell_type": "markdown",
      "metadata": {
        "id": "_0wALVUV1U9W"
      },
      "source": [
        "Trying to create a month column, we find out that same date have a string value 'oder date'"
      ]
    },
    {
      "cell_type": "markdown",
      "metadata": {
        "id": "1csCmyxN19Kr"
      },
      "source": [
        "Find 'Order Date' and delete it"
      ]
    },
    {
      "cell_type": "code",
      "metadata": {
        "colab": {
          "base_uri": "https://localhost:8080/",
          "height": 204
        },
        "id": "aGaegp-52FJQ",
        "outputId": "ee6ef817-cf77-435c-ced4-af045b782870"
      },
      "source": [
        "df = df[df['Order Date'].str[0:2] != 'Or']\n",
        "df.head()"
      ],
      "execution_count": 55,
      "outputs": [
        {
          "output_type": "execute_result",
          "data": {
            "text/html": [
              "<div>\n",
              "<style scoped>\n",
              "    .dataframe tbody tr th:only-of-type {\n",
              "        vertical-align: middle;\n",
              "    }\n",
              "\n",
              "    .dataframe tbody tr th {\n",
              "        vertical-align: top;\n",
              "    }\n",
              "\n",
              "    .dataframe thead th {\n",
              "        text-align: right;\n",
              "    }\n",
              "</style>\n",
              "<table border=\"1\" class=\"dataframe\">\n",
              "  <thead>\n",
              "    <tr style=\"text-align: right;\">\n",
              "      <th></th>\n",
              "      <th>Order ID</th>\n",
              "      <th>Product</th>\n",
              "      <th>Quantity Ordered</th>\n",
              "      <th>Price Each</th>\n",
              "      <th>Order Date</th>\n",
              "      <th>Purchase Address</th>\n",
              "    </tr>\n",
              "  </thead>\n",
              "  <tbody>\n",
              "    <tr>\n",
              "      <th>0</th>\n",
              "      <td>236670</td>\n",
              "      <td>Wired Headphones</td>\n",
              "      <td>2</td>\n",
              "      <td>11.99</td>\n",
              "      <td>08/31/19 22:21</td>\n",
              "      <td>359 Spruce St, Seattle, WA 98101</td>\n",
              "    </tr>\n",
              "    <tr>\n",
              "      <th>1</th>\n",
              "      <td>236671</td>\n",
              "      <td>Bose SoundSport Headphones</td>\n",
              "      <td>1</td>\n",
              "      <td>99.99</td>\n",
              "      <td>08/15/19 15:11</td>\n",
              "      <td>492 Ridge St, Dallas, TX 75001</td>\n",
              "    </tr>\n",
              "    <tr>\n",
              "      <th>2</th>\n",
              "      <td>236672</td>\n",
              "      <td>iPhone</td>\n",
              "      <td>1</td>\n",
              "      <td>700.0</td>\n",
              "      <td>08/06/19 14:40</td>\n",
              "      <td>149 7th St, Portland, OR 97035</td>\n",
              "    </tr>\n",
              "    <tr>\n",
              "      <th>3</th>\n",
              "      <td>236673</td>\n",
              "      <td>AA Batteries (4-pack)</td>\n",
              "      <td>2</td>\n",
              "      <td>3.84</td>\n",
              "      <td>08/29/19 20:59</td>\n",
              "      <td>631 2nd St, Los Angeles, CA 90001</td>\n",
              "    </tr>\n",
              "    <tr>\n",
              "      <th>4</th>\n",
              "      <td>236674</td>\n",
              "      <td>AA Batteries (4-pack)</td>\n",
              "      <td>2</td>\n",
              "      <td>3.84</td>\n",
              "      <td>08/15/19 19:53</td>\n",
              "      <td>736 14th St, New York City, NY 10001</td>\n",
              "    </tr>\n",
              "  </tbody>\n",
              "</table>\n",
              "</div>"
            ],
            "text/plain": [
              "  Order ID  ...                      Purchase Address\n",
              "0   236670  ...      359 Spruce St, Seattle, WA 98101\n",
              "1   236671  ...        492 Ridge St, Dallas, TX 75001\n",
              "2   236672  ...        149 7th St, Portland, OR 97035\n",
              "3   236673  ...     631 2nd St, Los Angeles, CA 90001\n",
              "4   236674  ...  736 14th St, New York City, NY 10001\n",
              "\n",
              "[5 rows x 6 columns]"
            ]
          },
          "metadata": {},
          "execution_count": 55
        }
      ]
    },
    {
      "cell_type": "markdown",
      "metadata": {
        "id": "PB2ROCN15x65"
      },
      "source": [
        "Convert columns to the correct type"
      ]
    },
    {
      "cell_type": "code",
      "metadata": {
        "id": "Gjs1iD3z50Fl"
      },
      "source": [
        "df['Price Each'] = pd.to_numeric(df['Price Each'])\n",
        "df['Quantity Ordered'] = pd.to_numeric(df['Quantity Ordered'])"
      ],
      "execution_count": 57,
      "outputs": []
    },
    {
      "cell_type": "markdown",
      "metadata": {
        "id": "lCoxJ3iZwKYn"
      },
      "source": [
        "##Add Month column"
      ]
    },
    {
      "cell_type": "code",
      "metadata": {
        "colab": {
          "base_uri": "https://localhost:8080/",
          "height": 204
        },
        "id": "4e1NXdDRuwHD",
        "outputId": "9c115d1a-8eea-42a3-b207-3d67e12c0c7c"
      },
      "source": [
        "df['Month'] = df['Order Date'].str[0:2]\n",
        "df['Month'] = df['Month'].astype('int32')\n",
        "df.head()"
      ],
      "execution_count": 56,
      "outputs": [
        {
          "output_type": "execute_result",
          "data": {
            "text/html": [
              "<div>\n",
              "<style scoped>\n",
              "    .dataframe tbody tr th:only-of-type {\n",
              "        vertical-align: middle;\n",
              "    }\n",
              "\n",
              "    .dataframe tbody tr th {\n",
              "        vertical-align: top;\n",
              "    }\n",
              "\n",
              "    .dataframe thead th {\n",
              "        text-align: right;\n",
              "    }\n",
              "</style>\n",
              "<table border=\"1\" class=\"dataframe\">\n",
              "  <thead>\n",
              "    <tr style=\"text-align: right;\">\n",
              "      <th></th>\n",
              "      <th>Order ID</th>\n",
              "      <th>Product</th>\n",
              "      <th>Quantity Ordered</th>\n",
              "      <th>Price Each</th>\n",
              "      <th>Order Date</th>\n",
              "      <th>Purchase Address</th>\n",
              "      <th>Month</th>\n",
              "    </tr>\n",
              "  </thead>\n",
              "  <tbody>\n",
              "    <tr>\n",
              "      <th>0</th>\n",
              "      <td>236670</td>\n",
              "      <td>Wired Headphones</td>\n",
              "      <td>2</td>\n",
              "      <td>11.99</td>\n",
              "      <td>08/31/19 22:21</td>\n",
              "      <td>359 Spruce St, Seattle, WA 98101</td>\n",
              "      <td>8</td>\n",
              "    </tr>\n",
              "    <tr>\n",
              "      <th>1</th>\n",
              "      <td>236671</td>\n",
              "      <td>Bose SoundSport Headphones</td>\n",
              "      <td>1</td>\n",
              "      <td>99.99</td>\n",
              "      <td>08/15/19 15:11</td>\n",
              "      <td>492 Ridge St, Dallas, TX 75001</td>\n",
              "      <td>8</td>\n",
              "    </tr>\n",
              "    <tr>\n",
              "      <th>2</th>\n",
              "      <td>236672</td>\n",
              "      <td>iPhone</td>\n",
              "      <td>1</td>\n",
              "      <td>700.0</td>\n",
              "      <td>08/06/19 14:40</td>\n",
              "      <td>149 7th St, Portland, OR 97035</td>\n",
              "      <td>8</td>\n",
              "    </tr>\n",
              "    <tr>\n",
              "      <th>3</th>\n",
              "      <td>236673</td>\n",
              "      <td>AA Batteries (4-pack)</td>\n",
              "      <td>2</td>\n",
              "      <td>3.84</td>\n",
              "      <td>08/29/19 20:59</td>\n",
              "      <td>631 2nd St, Los Angeles, CA 90001</td>\n",
              "      <td>8</td>\n",
              "    </tr>\n",
              "    <tr>\n",
              "      <th>4</th>\n",
              "      <td>236674</td>\n",
              "      <td>AA Batteries (4-pack)</td>\n",
              "      <td>2</td>\n",
              "      <td>3.84</td>\n",
              "      <td>08/15/19 19:53</td>\n",
              "      <td>736 14th St, New York City, NY 10001</td>\n",
              "      <td>8</td>\n",
              "    </tr>\n",
              "  </tbody>\n",
              "</table>\n",
              "</div>"
            ],
            "text/plain": [
              "  Order ID  ... Month\n",
              "0   236670  ...     8\n",
              "1   236671  ...     8\n",
              "2   236672  ...     8\n",
              "3   236673  ...     8\n",
              "4   236674  ...     8\n",
              "\n",
              "[5 rows x 7 columns]"
            ]
          },
          "metadata": {},
          "execution_count": 56
        }
      ]
    },
    {
      "cell_type": "markdown",
      "metadata": {
        "id": "etTu3ynW2n66"
      },
      "source": [
        "## The best month for sales"
      ]
    },
    {
      "cell_type": "markdown",
      "metadata": {
        "id": "DdfBr70y5VaD"
      },
      "source": [
        "**Add sales columns** "
      ]
    },
    {
      "cell_type": "code",
      "metadata": {
        "colab": {
          "base_uri": "https://localhost:8080/",
          "height": 204
        },
        "id": "vmRKv9y227EW",
        "outputId": "a52dd129-591d-4d22-bd2d-98309cba74b2"
      },
      "source": [
        "df['Sales'] = df['Price Each']*df['Quantity Ordered']\n",
        "df.head()"
      ],
      "execution_count": 58,
      "outputs": [
        {
          "output_type": "execute_result",
          "data": {
            "text/html": [
              "<div>\n",
              "<style scoped>\n",
              "    .dataframe tbody tr th:only-of-type {\n",
              "        vertical-align: middle;\n",
              "    }\n",
              "\n",
              "    .dataframe tbody tr th {\n",
              "        vertical-align: top;\n",
              "    }\n",
              "\n",
              "    .dataframe thead th {\n",
              "        text-align: right;\n",
              "    }\n",
              "</style>\n",
              "<table border=\"1\" class=\"dataframe\">\n",
              "  <thead>\n",
              "    <tr style=\"text-align: right;\">\n",
              "      <th></th>\n",
              "      <th>Order ID</th>\n",
              "      <th>Product</th>\n",
              "      <th>Quantity Ordered</th>\n",
              "      <th>Price Each</th>\n",
              "      <th>Order Date</th>\n",
              "      <th>Purchase Address</th>\n",
              "      <th>Month</th>\n",
              "      <th>Sales</th>\n",
              "    </tr>\n",
              "  </thead>\n",
              "  <tbody>\n",
              "    <tr>\n",
              "      <th>0</th>\n",
              "      <td>236670</td>\n",
              "      <td>Wired Headphones</td>\n",
              "      <td>2</td>\n",
              "      <td>11.99</td>\n",
              "      <td>08/31/19 22:21</td>\n",
              "      <td>359 Spruce St, Seattle, WA 98101</td>\n",
              "      <td>8</td>\n",
              "      <td>23.98</td>\n",
              "    </tr>\n",
              "    <tr>\n",
              "      <th>1</th>\n",
              "      <td>236671</td>\n",
              "      <td>Bose SoundSport Headphones</td>\n",
              "      <td>1</td>\n",
              "      <td>99.99</td>\n",
              "      <td>08/15/19 15:11</td>\n",
              "      <td>492 Ridge St, Dallas, TX 75001</td>\n",
              "      <td>8</td>\n",
              "      <td>99.99</td>\n",
              "    </tr>\n",
              "    <tr>\n",
              "      <th>2</th>\n",
              "      <td>236672</td>\n",
              "      <td>iPhone</td>\n",
              "      <td>1</td>\n",
              "      <td>700.00</td>\n",
              "      <td>08/06/19 14:40</td>\n",
              "      <td>149 7th St, Portland, OR 97035</td>\n",
              "      <td>8</td>\n",
              "      <td>700.00</td>\n",
              "    </tr>\n",
              "    <tr>\n",
              "      <th>3</th>\n",
              "      <td>236673</td>\n",
              "      <td>AA Batteries (4-pack)</td>\n",
              "      <td>2</td>\n",
              "      <td>3.84</td>\n",
              "      <td>08/29/19 20:59</td>\n",
              "      <td>631 2nd St, Los Angeles, CA 90001</td>\n",
              "      <td>8</td>\n",
              "      <td>7.68</td>\n",
              "    </tr>\n",
              "    <tr>\n",
              "      <th>4</th>\n",
              "      <td>236674</td>\n",
              "      <td>AA Batteries (4-pack)</td>\n",
              "      <td>2</td>\n",
              "      <td>3.84</td>\n",
              "      <td>08/15/19 19:53</td>\n",
              "      <td>736 14th St, New York City, NY 10001</td>\n",
              "      <td>8</td>\n",
              "      <td>7.68</td>\n",
              "    </tr>\n",
              "  </tbody>\n",
              "</table>\n",
              "</div>"
            ],
            "text/plain": [
              "  Order ID                     Product  ...  Month   Sales\n",
              "0   236670            Wired Headphones  ...      8   23.98\n",
              "1   236671  Bose SoundSport Headphones  ...      8   99.99\n",
              "2   236672                      iPhone  ...      8  700.00\n",
              "3   236673       AA Batteries (4-pack)  ...      8    7.68\n",
              "4   236674       AA Batteries (4-pack)  ...      8    7.68\n",
              "\n",
              "[5 rows x 8 columns]"
            ]
          },
          "metadata": {},
          "execution_count": 58
        }
      ]
    },
    {
      "cell_type": "code",
      "metadata": {
        "colab": {
          "base_uri": "https://localhost:8080/",
          "height": 452
        },
        "id": "G__B4SAx4cEx",
        "outputId": "e408fee7-d6ee-49a3-8a88-205851ed4be5"
      },
      "source": [
        "sales_per_months = df.groupby('Month').sum()\n",
        "sales_per_months"
      ],
      "execution_count": 62,
      "outputs": [
        {
          "output_type": "execute_result",
          "data": {
            "text/html": [
              "<div>\n",
              "<style scoped>\n",
              "    .dataframe tbody tr th:only-of-type {\n",
              "        vertical-align: middle;\n",
              "    }\n",
              "\n",
              "    .dataframe tbody tr th {\n",
              "        vertical-align: top;\n",
              "    }\n",
              "\n",
              "    .dataframe thead th {\n",
              "        text-align: right;\n",
              "    }\n",
              "</style>\n",
              "<table border=\"1\" class=\"dataframe\">\n",
              "  <thead>\n",
              "    <tr style=\"text-align: right;\">\n",
              "      <th></th>\n",
              "      <th>Quantity Ordered</th>\n",
              "      <th>Price Each</th>\n",
              "      <th>Sales</th>\n",
              "    </tr>\n",
              "    <tr>\n",
              "      <th>Month</th>\n",
              "      <th></th>\n",
              "      <th></th>\n",
              "      <th></th>\n",
              "    </tr>\n",
              "  </thead>\n",
              "  <tbody>\n",
              "    <tr>\n",
              "      <th>1</th>\n",
              "      <td>10903</td>\n",
              "      <td>1.811768e+06</td>\n",
              "      <td>1.822257e+06</td>\n",
              "    </tr>\n",
              "    <tr>\n",
              "      <th>2</th>\n",
              "      <td>13449</td>\n",
              "      <td>2.188885e+06</td>\n",
              "      <td>2.202022e+06</td>\n",
              "    </tr>\n",
              "    <tr>\n",
              "      <th>3</th>\n",
              "      <td>17005</td>\n",
              "      <td>2.791208e+06</td>\n",
              "      <td>2.807100e+06</td>\n",
              "    </tr>\n",
              "    <tr>\n",
              "      <th>4</th>\n",
              "      <td>20558</td>\n",
              "      <td>3.367671e+06</td>\n",
              "      <td>3.390670e+06</td>\n",
              "    </tr>\n",
              "    <tr>\n",
              "      <th>5</th>\n",
              "      <td>18667</td>\n",
              "      <td>3.135125e+06</td>\n",
              "      <td>3.152607e+06</td>\n",
              "    </tr>\n",
              "    <tr>\n",
              "      <th>6</th>\n",
              "      <td>15253</td>\n",
              "      <td>2.562026e+06</td>\n",
              "      <td>2.577802e+06</td>\n",
              "    </tr>\n",
              "    <tr>\n",
              "      <th>7</th>\n",
              "      <td>16072</td>\n",
              "      <td>2.632540e+06</td>\n",
              "      <td>2.647776e+06</td>\n",
              "    </tr>\n",
              "    <tr>\n",
              "      <th>8</th>\n",
              "      <td>13448</td>\n",
              "      <td>2.230345e+06</td>\n",
              "      <td>2.244468e+06</td>\n",
              "    </tr>\n",
              "    <tr>\n",
              "      <th>9</th>\n",
              "      <td>13109</td>\n",
              "      <td>2.084992e+06</td>\n",
              "      <td>2.097560e+06</td>\n",
              "    </tr>\n",
              "    <tr>\n",
              "      <th>10</th>\n",
              "      <td>22703</td>\n",
              "      <td>3.715555e+06</td>\n",
              "      <td>3.736727e+06</td>\n",
              "    </tr>\n",
              "    <tr>\n",
              "      <th>11</th>\n",
              "      <td>19798</td>\n",
              "      <td>3.180601e+06</td>\n",
              "      <td>3.199603e+06</td>\n",
              "    </tr>\n",
              "    <tr>\n",
              "      <th>12</th>\n",
              "      <td>28114</td>\n",
              "      <td>4.588415e+06</td>\n",
              "      <td>4.613443e+06</td>\n",
              "    </tr>\n",
              "  </tbody>\n",
              "</table>\n",
              "</div>"
            ],
            "text/plain": [
              "       Quantity Ordered    Price Each         Sales\n",
              "Month                                              \n",
              "1                 10903  1.811768e+06  1.822257e+06\n",
              "2                 13449  2.188885e+06  2.202022e+06\n",
              "3                 17005  2.791208e+06  2.807100e+06\n",
              "4                 20558  3.367671e+06  3.390670e+06\n",
              "5                 18667  3.135125e+06  3.152607e+06\n",
              "6                 15253  2.562026e+06  2.577802e+06\n",
              "7                 16072  2.632540e+06  2.647776e+06\n",
              "8                 13448  2.230345e+06  2.244468e+06\n",
              "9                 13109  2.084992e+06  2.097560e+06\n",
              "10                22703  3.715555e+06  3.736727e+06\n",
              "11                19798  3.180601e+06  3.199603e+06\n",
              "12                28114  4.588415e+06  4.613443e+06"
            ]
          },
          "metadata": {},
          "execution_count": 62
        }
      ]
    },
    {
      "cell_type": "markdown",
      "metadata": {
        "id": "ZBZpflT69n3L"
      },
      "source": [
        "Let's plot the result"
      ]
    },
    {
      "cell_type": "code",
      "metadata": {
        "colab": {
          "base_uri": "https://localhost:8080/",
          "height": 295
        },
        "id": "fXf2UQDg9rM2",
        "outputId": "63618e85-798d-4605-c5ed-1819d3d2de1a"
      },
      "source": [
        "months = range(1,13)\n",
        "\n",
        "plt.bar(months,sales_per_months['Sales'])\n",
        "plt.xticks(months)\n",
        "plt.xlabel('Month')\n",
        "plt.ylabel('Sales in USD ($)')\n",
        "plt.title('Sales in USD per month')\n",
        "plt.show()"
      ],
      "execution_count": 65,
      "outputs": [
        {
          "output_type": "display_data",
          "data": {
            "image/png": "[encoded data removed]",
            "text/plain": [
              "<Figure size 432x288 with 1 Axes>"
            ]
          },
          "metadata": {
            "needs_background": "light"
          }
        }
      ]
    },
    {
      "cell_type": "markdown",
      "metadata": {
        "id": "xbLFKsMX_nYX"
      },
      "source": [
        "##City with the highest number of sales"
      ]
    },
    {
      "cell_type": "markdown",
      "metadata": {
        "id": "UofCCNDD_4B9"
      },
      "source": [
        "Let's first add city column"
      ]
    },
    {
      "cell_type": "code",
      "metadata": {
        "colab": {
          "base_uri": "https://localhost:8080/",
          "height": 204
        },
        "id": "xQI_1Dsa_tym",
        "outputId": "74e5a95d-c0bf-41bd-e344-bba8ac29c781"
      },
      "source": [
        "df['City'] = df['Purchase Address'].str.split(',', n=1, expand=True)[1]\n",
        "df.head()"
      ],
      "execution_count": 84,
      "outputs": [
        {
          "output_type": "execute_result",
          "data": {
            "text/html": [
              "<div>\n",
              "<style scoped>\n",
              "    .dataframe tbody tr th:only-of-type {\n",
              "        vertical-align: middle;\n",
              "    }\n",
              "\n",
              "    .dataframe tbody tr th {\n",
              "        vertical-align: top;\n",
              "    }\n",
              "\n",
              "    .dataframe thead th {\n",
              "        text-align: right;\n",
              "    }\n",
              "</style>\n",
              "<table border=\"1\" class=\"dataframe\">\n",
              "  <thead>\n",
              "    <tr style=\"text-align: right;\">\n",
              "      <th></th>\n",
              "      <th>Order ID</th>\n",
              "      <th>Product</th>\n",
              "      <th>Quantity Ordered</th>\n",
              "      <th>Price Each</th>\n",
              "      <th>Order Date</th>\n",
              "      <th>Purchase Address</th>\n",
              "      <th>Month</th>\n",
              "      <th>Sales</th>\n",
              "      <th>City</th>\n",
              "    </tr>\n",
              "  </thead>\n",
              "  <tbody>\n",
              "    <tr>\n",
              "      <th>0</th>\n",
              "      <td>236670</td>\n",
              "      <td>Wired Headphones</td>\n",
              "      <td>2</td>\n",
              "      <td>11.99</td>\n",
              "      <td>08/31/19 22:21</td>\n",
              "      <td>359 Spruce St, Seattle, WA 98101</td>\n",
              "      <td>8</td>\n",
              "      <td>23.98</td>\n",
              "      <td>Seattle, WA 98101</td>\n",
              "    </tr>\n",
              "    <tr>\n",
              "      <th>1</th>\n",
              "      <td>236671</td>\n",
              "      <td>Bose SoundSport Headphones</td>\n",
              "      <td>1</td>\n",
              "      <td>99.99</td>\n",
              "      <td>08/15/19 15:11</td>\n",
              "      <td>492 Ridge St, Dallas, TX 75001</td>\n",
              "      <td>8</td>\n",
              "      <td>99.99</td>\n",
              "      <td>Dallas, TX 75001</td>\n",
              "    </tr>\n",
              "    <tr>\n",
              "      <th>2</th>\n",
              "      <td>236672</td>\n",
              "      <td>iPhone</td>\n",
              "      <td>1</td>\n",
              "      <td>700.00</td>\n",
              "      <td>08/06/19 14:40</td>\n",
              "      <td>149 7th St, Portland, OR 97035</td>\n",
              "      <td>8</td>\n",
              "      <td>700.00</td>\n",
              "      <td>Portland, OR 97035</td>\n",
              "    </tr>\n",
              "    <tr>\n",
              "      <th>3</th>\n",
              "      <td>236673</td>\n",
              "      <td>AA Batteries (4-pack)</td>\n",
              "      <td>2</td>\n",
              "      <td>3.84</td>\n",
              "      <td>08/29/19 20:59</td>\n",
              "      <td>631 2nd St, Los Angeles, CA 90001</td>\n",
              "      <td>8</td>\n",
              "      <td>7.68</td>\n",
              "      <td>Los Angeles, CA 90001</td>\n",
              "    </tr>\n",
              "    <tr>\n",
              "      <th>4</th>\n",
              "      <td>236674</td>\n",
              "      <td>AA Batteries (4-pack)</td>\n",
              "      <td>2</td>\n",
              "      <td>3.84</td>\n",
              "      <td>08/15/19 19:53</td>\n",
              "      <td>736 14th St, New York City, NY 10001</td>\n",
              "      <td>8</td>\n",
              "      <td>7.68</td>\n",
              "      <td>New York City, NY 10001</td>\n",
              "    </tr>\n",
              "  </tbody>\n",
              "</table>\n",
              "</div>"
            ],
            "text/plain": [
              "  Order ID                     Product  ...   Sales                      City\n",
              "0   236670            Wired Headphones  ...   23.98         Seattle, WA 98101\n",
              "1   236671  Bose SoundSport Headphones  ...   99.99          Dallas, TX 75001\n",
              "2   236672                      iPhone  ...  700.00        Portland, OR 97035\n",
              "3   236673       AA Batteries (4-pack)  ...    7.68     Los Angeles, CA 90001\n",
              "4   236674       AA Batteries (4-pack)  ...    7.68   New York City, NY 10001\n",
              "\n",
              "[5 rows x 9 columns]"
            ]
          },
          "metadata": {},
          "execution_count": 84
        }
      ]
    },
    {
      "cell_type": "code",
      "metadata": {
        "colab": {
          "base_uri": "https://localhost:8080/",
          "height": 390
        },
        "id": "LGN9RvSRCDnT",
        "outputId": "f12f980d-4ffa-46e7-eaf3-cfd3cfc1af87"
      },
      "source": [
        "city_sales = df.groupby('City').sum()\n",
        "city_sales"
      ],
      "execution_count": 85,
      "outputs": [
        {
          "output_type": "execute_result",
          "data": {
            "text/html": [
              "<div>\n",
              "<style scoped>\n",
              "    .dataframe tbody tr th:only-of-type {\n",
              "        vertical-align: middle;\n",
              "    }\n",
              "\n",
              "    .dataframe tbody tr th {\n",
              "        vertical-align: top;\n",
              "    }\n",
              "\n",
              "    .dataframe thead th {\n",
              "        text-align: right;\n",
              "    }\n",
              "</style>\n",
              "<table border=\"1\" class=\"dataframe\">\n",
              "  <thead>\n",
              "    <tr style=\"text-align: right;\">\n",
              "      <th></th>\n",
              "      <th>Quantity Ordered</th>\n",
              "      <th>Price Each</th>\n",
              "      <th>Month</th>\n",
              "      <th>Sales</th>\n",
              "    </tr>\n",
              "    <tr>\n",
              "      <th>City</th>\n",
              "      <th></th>\n",
              "      <th></th>\n",
              "      <th></th>\n",
              "      <th></th>\n",
              "    </tr>\n",
              "  </thead>\n",
              "  <tbody>\n",
              "    <tr>\n",
              "      <th>Atlanta, GA 30301</th>\n",
              "      <td>16602</td>\n",
              "      <td>2.779908e+06</td>\n",
              "      <td>104794</td>\n",
              "      <td>2.795499e+06</td>\n",
              "    </tr>\n",
              "    <tr>\n",
              "      <th>Austin, TX 73301</th>\n",
              "      <td>11153</td>\n",
              "      <td>1.809874e+06</td>\n",
              "      <td>69829</td>\n",
              "      <td>1.819582e+06</td>\n",
              "    </tr>\n",
              "    <tr>\n",
              "      <th>Boston, MA 02215</th>\n",
              "      <td>22528</td>\n",
              "      <td>3.637410e+06</td>\n",
              "      <td>141112</td>\n",
              "      <td>3.661642e+06</td>\n",
              "    </tr>\n",
              "    <tr>\n",
              "      <th>Dallas, TX 75001</th>\n",
              "      <td>16730</td>\n",
              "      <td>2.752628e+06</td>\n",
              "      <td>104620</td>\n",
              "      <td>2.767975e+06</td>\n",
              "    </tr>\n",
              "    <tr>\n",
              "      <th>Los Angeles, CA 90001</th>\n",
              "      <td>33289</td>\n",
              "      <td>5.421435e+06</td>\n",
              "      <td>208325</td>\n",
              "      <td>5.452571e+06</td>\n",
              "    </tr>\n",
              "    <tr>\n",
              "      <th>New York City, NY 10001</th>\n",
              "      <td>27932</td>\n",
              "      <td>4.635371e+06</td>\n",
              "      <td>175741</td>\n",
              "      <td>4.664317e+06</td>\n",
              "    </tr>\n",
              "    <tr>\n",
              "      <th>Portland, ME 04101</th>\n",
              "      <td>2750</td>\n",
              "      <td>4.471893e+05</td>\n",
              "      <td>17144</td>\n",
              "      <td>4.497583e+05</td>\n",
              "    </tr>\n",
              "    <tr>\n",
              "      <th>Portland, OR 97035</th>\n",
              "      <td>11303</td>\n",
              "      <td>1.860558e+06</td>\n",
              "      <td>70621</td>\n",
              "      <td>1.870732e+06</td>\n",
              "    </tr>\n",
              "    <tr>\n",
              "      <th>San Francisco, CA 94016</th>\n",
              "      <td>50239</td>\n",
              "      <td>8.211462e+06</td>\n",
              "      <td>315520</td>\n",
              "      <td>8.262204e+06</td>\n",
              "    </tr>\n",
              "    <tr>\n",
              "      <th>Seattle, WA 98101</th>\n",
              "      <td>16553</td>\n",
              "      <td>2.733296e+06</td>\n",
              "      <td>104941</td>\n",
              "      <td>2.747755e+06</td>\n",
              "    </tr>\n",
              "  </tbody>\n",
              "</table>\n",
              "</div>"
            ],
            "text/plain": [
              "                          Quantity Ordered    Price Each   Month         Sales\n",
              "City                                                                          \n",
              " Atlanta, GA 30301                   16602  2.779908e+06  104794  2.795499e+06\n",
              " Austin, TX 73301                    11153  1.809874e+06   69829  1.819582e+06\n",
              " Boston, MA 02215                    22528  3.637410e+06  141112  3.661642e+06\n",
              " Dallas, TX 75001                    16730  2.752628e+06  104620  2.767975e+06\n",
              " Los Angeles, CA 90001               33289  5.421435e+06  208325  5.452571e+06\n",
              " New York City, NY 10001             27932  4.635371e+06  175741  4.664317e+06\n",
              " Portland, ME 04101                   2750  4.471893e+05   17144  4.497583e+05\n",
              " Portland, OR 97035                  11303  1.860558e+06   70621  1.870732e+06\n",
              " San Francisco, CA 94016             50239  8.211462e+06  315520  8.262204e+06\n",
              " Seattle, WA 98101                   16553  2.733296e+06  104941  2.747755e+06"
            ]
          },
          "metadata": {},
          "execution_count": 85
        }
      ]
    },
    {
      "cell_type": "markdown",
      "metadata": {
        "id": "NLYyruD4CPau"
      },
      "source": [
        "Let's plot the result"
      ]
    },
    {
      "cell_type": "code",
      "metadata": {
        "colab": {
          "base_uri": "https://localhost:8080/",
          "height": 387
        },
        "id": "TmecM4iSCR-U",
        "outputId": "295be61f-9049-45a8-ff47-a73961d08c8e"
      },
      "source": [
        "cities = [city for city,df in df.groupby('City')]\n",
        "plt.bar(cities,city_sales['Sales'])\n",
        "plt.xticks(cities,rotation='vertical',size=8)\n",
        "plt.xlabel('City')\n",
        "plt.ylabel('Sales in USD ($)')\n",
        "plt.title('Sales in USD per city')\n",
        "plt.show()"
      ],
      "execution_count": 88,
      "outputs": [
        {
          "output_type": "display_data",
          "data": {
            "image/png": "[encoded data removed]",
            "text/plain": [
              "<Figure size 432x288 with 1 Axes>"
            ]
          },
          "metadata": {
            "needs_background": "light"
          }
        }
      ]
    },
    {
      "cell_type": "markdown",
      "metadata": {
        "id": "8sdC-Do3LlRU"
      },
      "source": [
        "##Best time to display advertisements to maximise likelihood of customer's buying product"
      ]
    },
    {
      "cell_type": "code",
      "metadata": {
        "id": "AGPWwA3LL2vJ"
      },
      "source": [
        "df['Order Date'] = pd.to_datetime(df['Order Date'])"
      ],
      "execution_count": 89,
      "outputs": []
    },
    {
      "cell_type": "code",
      "metadata": {
        "id": "WopyN0wcNpWP"
      },
      "source": [
        "df['Hour'] = df['Order Date'].dt.hour\n",
        "df['Minute'] = df['Order Date'].dt.minute\n",
        "df['Count'] = 1"
      ],
      "execution_count": 94,
      "outputs": []
    },
    {
      "cell_type": "code",
      "metadata": {
        "colab": {
          "base_uri": "https://localhost:8080/",
          "height": 279
        },
        "id": "1M6UQlqWMJaF",
        "outputId": "3af9942e-9369-4cd0-d888-9f26583e6162"
      },
      "source": [
        "hours = [h for h,df in df.groupby('Hour')]\n",
        "\n",
        "plt.plot(hours,df.groupby('Hour').count())\n",
        "plt.xticks(hours)\n",
        "plt.xlabel('Hours')\n",
        "plt.ylabel('Number of orders')\n",
        "plt.grid()\n",
        "plt.show()\n"
      ],
      "execution_count": 100,
      "outputs": [
        {
          "output_type": "display_data",
          "data": {
            "image/png": "[encoded data removed]",
            "text/plain": [
              "<Figure size 432x288 with 1 Axes>"
            ]
          },
          "metadata": {
            "needs_background": "light"
          }
        }
      ]
    },
    {
      "cell_type": "markdown",
      "metadata": {
        "id": "9igSsM0TPzFe"
      },
      "source": [
        "##Product most often sold together"
      ]
    },
    {
      "cell_type": "code",
      "metadata": {
        "colab": {
          "base_uri": "https://localhost:8080/",
          "height": 606
        },
        "id": "RyNrUQJJP71c",
        "outputId": "cba12e86-294c-4ca9-c604-e8435d9bd760"
      },
      "source": [
        "dup = df[df['Order ID'].duplicated(keep=False)]\n",
        "dup"
      ],
      "execution_count": 101,
      "outputs": [
        {
          "output_type": "execute_result",
          "data": {
            "text/html": [
              "<div>\n",
              "<style scoped>\n",
              "    .dataframe tbody tr th:only-of-type {\n",
              "        vertical-align: middle;\n",
              "    }\n",
              "\n",
              "    .dataframe tbody tr th {\n",
              "        vertical-align: top;\n",
              "    }\n",
              "\n",
              "    .dataframe thead th {\n",
              "        text-align: right;\n",
              "    }\n",
              "</style>\n",
              "<table border=\"1\" class=\"dataframe\">\n",
              "  <thead>\n",
              "    <tr style=\"text-align: right;\">\n",
              "      <th></th>\n",
              "      <th>Order ID</th>\n",
              "      <th>Product</th>\n",
              "      <th>Quantity Ordered</th>\n",
              "      <th>Price Each</th>\n",
              "      <th>Order Date</th>\n",
              "      <th>Purchase Address</th>\n",
              "      <th>Month</th>\n",
              "      <th>Sales</th>\n",
              "      <th>City</th>\n",
              "      <th>Hour</th>\n",
              "      <th>Minute</th>\n",
              "      <th>Count</th>\n",
              "    </tr>\n",
              "  </thead>\n",
              "  <tbody>\n",
              "    <tr>\n",
              "      <th>46</th>\n",
              "      <td>236716</td>\n",
              "      <td>AA Batteries (4-pack)</td>\n",
              "      <td>2</td>\n",
              "      <td>3.84</td>\n",
              "      <td>2019-08-17 20:12:00</td>\n",
              "      <td>84 Cedar St, San Francisco, CA 94016</td>\n",
              "      <td>8</td>\n",
              "      <td>7.68</td>\n",
              "      <td>San Francisco, CA 94016</td>\n",
              "      <td>20</td>\n",
              "      <td>12</td>\n",
              "      <td>1</td>\n",
              "    </tr>\n",
              "    <tr>\n",
              "      <th>47</th>\n",
              "      <td>236716</td>\n",
              "      <td>USB-C Charging Cable</td>\n",
              "      <td>1</td>\n",
              "      <td>11.95</td>\n",
              "      <td>2019-08-17 20:12:00</td>\n",
              "      <td>84 Cedar St, San Francisco, CA 94016</td>\n",
              "      <td>8</td>\n",
              "      <td>11.95</td>\n",
              "      <td>San Francisco, CA 94016</td>\n",
              "      <td>20</td>\n",
              "      <td>12</td>\n",
              "      <td>1</td>\n",
              "    </tr>\n",
              "    <tr>\n",
              "      <th>60</th>\n",
              "      <td>236729</td>\n",
              "      <td>iPhone</td>\n",
              "      <td>1</td>\n",
              "      <td>700.00</td>\n",
              "      <td>2019-08-09 09:28:00</td>\n",
              "      <td>635 Lake St, San Francisco, CA 94016</td>\n",
              "      <td>8</td>\n",
              "      <td>700.00</td>\n",
              "      <td>San Francisco, CA 94016</td>\n",
              "      <td>9</td>\n",
              "      <td>28</td>\n",
              "      <td>1</td>\n",
              "    </tr>\n",
              "    <tr>\n",
              "      <th>61</th>\n",
              "      <td>236729</td>\n",
              "      <td>Apple Airpods Headphones</td>\n",
              "      <td>1</td>\n",
              "      <td>150.00</td>\n",
              "      <td>2019-08-09 09:28:00</td>\n",
              "      <td>635 Lake St, San Francisco, CA 94016</td>\n",
              "      <td>8</td>\n",
              "      <td>150.00</td>\n",
              "      <td>San Francisco, CA 94016</td>\n",
              "      <td>9</td>\n",
              "      <td>28</td>\n",
              "      <td>1</td>\n",
              "    </tr>\n",
              "    <tr>\n",
              "      <th>62</th>\n",
              "      <td>236730</td>\n",
              "      <td>Google Phone</td>\n",
              "      <td>1</td>\n",
              "      <td>600.00</td>\n",
              "      <td>2019-08-02 10:17:00</td>\n",
              "      <td>445 Lincoln St, New York City, NY 10001</td>\n",
              "      <td>8</td>\n",
              "      <td>600.00</td>\n",
              "      <td>New York City, NY 10001</td>\n",
              "      <td>10</td>\n",
              "      <td>17</td>\n",
              "      <td>1</td>\n",
              "    </tr>\n",
              "    <tr>\n",
              "      <th>...</th>\n",
              "      <td>...</td>\n",
              "      <td>...</td>\n",
              "      <td>...</td>\n",
              "      <td>...</td>\n",
              "      <td>...</td>\n",
              "      <td>...</td>\n",
              "      <td>...</td>\n",
              "      <td>...</td>\n",
              "      <td>...</td>\n",
              "      <td>...</td>\n",
              "      <td>...</td>\n",
              "      <td>...</td>\n",
              "    </tr>\n",
              "    <tr>\n",
              "      <th>186799</th>\n",
              "      <td>161960</td>\n",
              "      <td>USB-C Charging Cable</td>\n",
              "      <td>2</td>\n",
              "      <td>11.95</td>\n",
              "      <td>2019-02-01 11:32:00</td>\n",
              "      <td>867 Cherry St, Boston, MA 02215</td>\n",
              "      <td>2</td>\n",
              "      <td>23.90</td>\n",
              "      <td>Boston, MA 02215</td>\n",
              "      <td>11</td>\n",
              "      <td>32</td>\n",
              "      <td>1</td>\n",
              "    </tr>\n",
              "    <tr>\n",
              "      <th>186811</th>\n",
              "      <td>161972</td>\n",
              "      <td>Google Phone</td>\n",
              "      <td>1</td>\n",
              "      <td>600.00</td>\n",
              "      <td>2019-02-02 21:01:00</td>\n",
              "      <td>59 Lincoln St, Austin, TX 73301</td>\n",
              "      <td>2</td>\n",
              "      <td>600.00</td>\n",
              "      <td>Austin, TX 73301</td>\n",
              "      <td>21</td>\n",
              "      <td>1</td>\n",
              "      <td>1</td>\n",
              "    </tr>\n",
              "    <tr>\n",
              "      <th>186812</th>\n",
              "      <td>161972</td>\n",
              "      <td>USB-C Charging Cable</td>\n",
              "      <td>1</td>\n",
              "      <td>11.95</td>\n",
              "      <td>2019-02-02 21:01:00</td>\n",
              "      <td>59 Lincoln St, Austin, TX 73301</td>\n",
              "      <td>2</td>\n",
              "      <td>11.95</td>\n",
              "      <td>Austin, TX 73301</td>\n",
              "      <td>21</td>\n",
              "      <td>1</td>\n",
              "      <td>1</td>\n",
              "    </tr>\n",
              "    <tr>\n",
              "      <th>186837</th>\n",
              "      <td>161997</td>\n",
              "      <td>Google Phone</td>\n",
              "      <td>1</td>\n",
              "      <td>600.00</td>\n",
              "      <td>2019-02-28 22:15:00</td>\n",
              "      <td>845 8th St, San Francisco, CA 94016</td>\n",
              "      <td>2</td>\n",
              "      <td>600.00</td>\n",
              "      <td>San Francisco, CA 94016</td>\n",
              "      <td>22</td>\n",
              "      <td>15</td>\n",
              "      <td>1</td>\n",
              "    </tr>\n",
              "    <tr>\n",
              "      <th>186838</th>\n",
              "      <td>161997</td>\n",
              "      <td>USB-C Charging Cable</td>\n",
              "      <td>1</td>\n",
              "      <td>11.95</td>\n",
              "      <td>2019-02-28 22:15:00</td>\n",
              "      <td>845 8th St, San Francisco, CA 94016</td>\n",
              "      <td>2</td>\n",
              "      <td>11.95</td>\n",
              "      <td>San Francisco, CA 94016</td>\n",
              "      <td>22</td>\n",
              "      <td>15</td>\n",
              "      <td>1</td>\n",
              "    </tr>\n",
              "  </tbody>\n",
              "</table>\n",
              "<p>14649 rows × 12 columns</p>\n",
              "</div>"
            ],
            "text/plain": [
              "       Order ID                   Product  ...  Minute  Count\n",
              "46       236716     AA Batteries (4-pack)  ...      12      1\n",
              "47       236716      USB-C Charging Cable  ...      12      1\n",
              "60       236729                    iPhone  ...      28      1\n",
              "61       236729  Apple Airpods Headphones  ...      28      1\n",
              "62       236730              Google Phone  ...      17      1\n",
              "...         ...                       ...  ...     ...    ...\n",
              "186799   161960      USB-C Charging Cable  ...      32      1\n",
              "186811   161972              Google Phone  ...       1      1\n",
              "186812   161972      USB-C Charging Cable  ...       1      1\n",
              "186837   161997              Google Phone  ...      15      1\n",
              "186838   161997      USB-C Charging Cable  ...      15      1\n",
              "\n",
              "[14649 rows x 12 columns]"
            ]
          },
          "metadata": {},
          "execution_count": 101
        }
      ]
    },
    {
      "cell_type": "code",
      "metadata": {
        "colab": {
          "base_uri": "https://localhost:8080/",
          "height": 306
        },
        "id": "q3FF3qdcQ0c2",
        "outputId": "b8c382ae-f2d7-4c40-a937-f0847dc5e8c2"
      },
      "source": [
        "dup['Grouped'] = dup.groupby('Order ID')['Product'].transform(lambda x:','.join(x))\n",
        "dup = dup[['Order ID','Grouped']].drop_duplicates()\n",
        "dup.head()"
      ],
      "execution_count": 104,
      "outputs": [
        {
          "output_type": "stream",
          "name": "stderr",
          "text": [
            "/usr/local/lib/python3.7/dist-packages/ipykernel_launcher.py:1: SettingWithCopyWarning: \n",
            "A value is trying to be set on a copy of a slice from a DataFrame.\n",
            "Try using .loc[row_indexer,col_indexer] = value instead\n",
            "\n",
            "See the caveats in the documentation: https://pandas.pydata.org/pandas-docs/stable/user_guide/indexing.html#returning-a-view-versus-a-copy\n",
            "  \"\"\"Entry point for launching an IPython kernel.\n"
          ]
        },
        {
          "output_type": "execute_result",
          "data": {
            "text/html": [
              "<div>\n",
              "<style scoped>\n",
              "    .dataframe tbody tr th:only-of-type {\n",
              "        vertical-align: middle;\n",
              "    }\n",
              "\n",
              "    .dataframe tbody tr th {\n",
              "        vertical-align: top;\n",
              "    }\n",
              "\n",
              "    .dataframe thead th {\n",
              "        text-align: right;\n",
              "    }\n",
              "</style>\n",
              "<table border=\"1\" class=\"dataframe\">\n",
              "  <thead>\n",
              "    <tr style=\"text-align: right;\">\n",
              "      <th></th>\n",
              "      <th>Order ID</th>\n",
              "      <th>Grouped</th>\n",
              "    </tr>\n",
              "  </thead>\n",
              "  <tbody>\n",
              "    <tr>\n",
              "      <th>46</th>\n",
              "      <td>236716</td>\n",
              "      <td>AA Batteries (4-pack),USB-C Charging Cable</td>\n",
              "    </tr>\n",
              "    <tr>\n",
              "      <th>60</th>\n",
              "      <td>236729</td>\n",
              "      <td>iPhone,Apple Airpods Headphones</td>\n",
              "    </tr>\n",
              "    <tr>\n",
              "      <th>62</th>\n",
              "      <td>236730</td>\n",
              "      <td>Google Phone,Wired Headphones</td>\n",
              "    </tr>\n",
              "    <tr>\n",
              "      <th>132</th>\n",
              "      <td>236799</td>\n",
              "      <td>Google Phone,Wired Headphones</td>\n",
              "    </tr>\n",
              "    <tr>\n",
              "      <th>163</th>\n",
              "      <td>236829</td>\n",
              "      <td>Vareebadd Phone,USB-C Charging Cable</td>\n",
              "    </tr>\n",
              "  </tbody>\n",
              "</table>\n",
              "</div>"
            ],
            "text/plain": [
              "    Order ID                                     Grouped\n",
              "46    236716  AA Batteries (4-pack),USB-C Charging Cable\n",
              "60    236729             iPhone,Apple Airpods Headphones\n",
              "62    236730               Google Phone,Wired Headphones\n",
              "132   236799               Google Phone,Wired Headphones\n",
              "163   236829        Vareebadd Phone,USB-C Charging Cable"
            ]
          },
          "metadata": {},
          "execution_count": 104
        }
      ]
    },
    {
      "cell_type": "code",
      "metadata": {
        "colab": {
          "base_uri": "https://localhost:8080/"
        },
        "id": "s1iPGb_-SDnD",
        "outputId": "77760459-3384-4fcf-e77a-adf8f52f4110"
      },
      "source": [
        "from itertools import combinations\n",
        "from collections import Counter\n",
        "\n",
        "count = Counter()\n",
        "\n",
        "for row in dup['Grouped']:\n",
        "  row_list = row.split(',')\n",
        "  count.update(Counter(combinations(row_list,2)))\n",
        "\n",
        "count.most_common(10)\n"
      ],
      "execution_count": 107,
      "outputs": [
        {
          "output_type": "execute_result",
          "data": {
            "text/plain": [
              "[(('iPhone', 'Lightning Charging Cable'), 1005),\n",
              " (('Google Phone', 'USB-C Charging Cable'), 987),\n",
              " (('iPhone', 'Wired Headphones'), 447),\n",
              " (('Google Phone', 'Wired Headphones'), 414),\n",
              " (('Vareebadd Phone', 'USB-C Charging Cable'), 361),\n",
              " (('iPhone', 'Apple Airpods Headphones'), 360),\n",
              " (('Google Phone', 'Bose SoundSport Headphones'), 220),\n",
              " (('USB-C Charging Cable', 'Wired Headphones'), 160),\n",
              " (('Vareebadd Phone', 'Wired Headphones'), 143),\n",
              " (('Lightning Charging Cable', 'Wired Headphones'), 92)]"
            ]
          },
          "metadata": {},
          "execution_count": 107
        }
      ]
    },
    {
      "cell_type": "markdown",
      "metadata": {
        "id": "H6E7k4nVTL3Z"
      },
      "source": [
        "##Product sold the most"
      ]
    },
    {
      "cell_type": "code",
      "metadata": {
        "colab": {
          "base_uri": "https://localhost:8080/",
          "height": 391
        },
        "id": "dLKaXJqGTOzg",
        "outputId": "612a9e98-6f6c-4f8e-8f1c-d10226601b1e"
      },
      "source": [
        "products_group = df.groupby('Product')\n",
        "quantity_ordered = products_group.sum()['Quantity Ordered']\n",
        "\n",
        "products = [prod for prod,df in products_group]\n",
        "\n",
        "plt.bar(products,quantity_ordered)\n",
        "plt.xticks(products,rotation='vertical',size=8)\n",
        "plt.xlabel('Products')\n",
        "plt.ylabel('Quantity ordered')\n",
        "plt.show()"
      ],
      "execution_count": 110,
      "outputs": [
        {
          "output_type": "display_data",
          "data": {
            "image/png": "[encoded data removed]",
            "text/plain": [
              "<Figure size 432x288 with 1 Axes>"
            ]
          },
          "metadata": {
            "needs_background": "light"
          }
        }
      ]
    },
    {
      "cell_type": "code",
      "metadata": {
        "colab": {
          "base_uri": "https://localhost:8080/",
          "height": 391
        },
        "id": "Q_9ULEkAVjrD",
        "outputId": "58ddb25b-2ea7-42c4-88ac-3aea98a0382b"
      },
      "source": [
        "prices = df.groupby('Product').mean()['Price Each']\n",
        "\n",
        "fig, ax1 = plt.subplots()\n",
        "\n",
        "ax2 = ax1.twinx()\n",
        "ax1.bar(products, quantity_ordered, color='g')\n",
        "ax2.plot(products, prices, color='r')\n",
        "\n",
        "ax1.set_xlabel('Product Name')\n",
        "ax1.set_ylabel('Quantity Ordered', color='g')\n",
        "ax2.set_ylabel('Price ($)', color='r')\n",
        "ax1.set_xticklabels(products, rotation='vertical', size=8)\n",
        "\n",
        "fig.show()"
      ],
      "execution_count": 114,
      "outputs": [
        {
          "output_type": "display_data",
          "data": {
            "image/png": "[encoded data removed]",
            "text/plain": [
              "<Figure size 432x288 with 2 Axes>"
            ]
          },
          "metadata": {
            "needs_background": "light"
          }
        }
      ]
    }
  ]
}